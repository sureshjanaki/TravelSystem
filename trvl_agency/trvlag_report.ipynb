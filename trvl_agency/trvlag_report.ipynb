{
 "cells": [
  {
   "cell_type": "code",
   "execution_count": 1,
   "id": "539a1b9f",
   "metadata": {},
   "outputs": [
    {
     "name": "stdout",
     "output_type": "stream",
     "text": [
      "   ID          LOGIN COUNTRY_NAME      S_DATE      E_DATE   PRICE  SPOT\n",
      "0   1     us@usa.com          Usa  2021-09-30  2021-12-30  1300.0     2\n",
      "1   3     us@usa.com       Canada  2021-01-30  2021-04-30  1200.0     2\n",
      "2   4  ftp@gmail.com       Canada  2021-01-30  2021-04-30  1200.0     1\n"
     ]
    },
    {
     "data": {
      "image/png": "[encoded data removed]",
      "text/plain": [
       "<Figure size 576x288 with 1 Axes>"
      ]
     },
     "metadata": {
      "needs_background": "light"
     },
     "output_type": "display_data"
    }
   ],
   "source": [
    "import sqlite3 as sql\n",
    "import pandas as pd\n",
    "import numpy as np\n",
    "import matplotlib.pyplot as plot\n",
    "\n",
    "\n",
    "conn = sql.connect('trvlag.db')\n",
    "\n",
    "query = '''SELECT * FROM booking'''\n",
    "\n",
    "df = pd.read_sql_query(query, conn)\n",
    "print(df.head())\n",
    "\n",
    "countRows= len(df['LOGIN'])\n",
    "\n",
    "listCountry1 = df['COUNTRY_NAME'] == df['COUNTRY_NAME'][0]\n",
    "listCountry2  = df['COUNTRY_NAME'] == df['COUNTRY_NAME'][1]\n",
    "\n",
    "data = {str(df['COUNTRY_NAME'][0]): len(df[listCountry1]),\n",
    "         str(df['COUNTRY_NAME'][1]): len(df[listCountry2]) }\n",
    "\n",
    "courses = list(data.keys())\n",
    "values = list(data.values())\n",
    "\n",
    "fig = plot.figure(figsize = (8, 4))\n",
    "plot.bar(courses, values, color ='blue', width = 0.5)\n",
    "plot.xlabel(\"Country\")\n",
    "plot.ylabel(\"Count\")\n",
    "plot.title(\"No of entries in the country\")\n",
    "plot.show()"
   ]
  },
  {
   "cell_type": "code",
   "execution_count": null,
   "id": "4f5950ce",
   "metadata": {},
   "outputs": [],
   "source": []
  }
 ],
 "metadata": {
  "kernelspec": {
   "display_name": "Python 3",
   "language": "python",
   "name": "python3"
  },
  "language_info": {
   "codemirror_mode": {
    "name": "ipython",
    "version": 3
   },
   "file_extension": ".py",
   "mimetype": "text/x-python",
   "name": "python",
   "nbconvert_exporter": "python",
   "pygments_lexer": "ipython3",
   "version": "3.8.8"
  }
 },
 "nbformat": 4,
 "nbformat_minor": 5
}
